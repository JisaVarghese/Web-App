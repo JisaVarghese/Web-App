{
  "nbformat": 4,
  "nbformat_minor": 0,
  "metadata": {
    "colab": {
      "name": "ConfusionMatrix.ipynb",
      "provenance": [],
      "collapsed_sections": []
    },
    "kernelspec": {
      "name": "python3",
      "display_name": "Python 3"
    },
    "language_info": {
      "name": "python"
    }
  },
  "cells": [
    {
      "cell_type": "code",
      "metadata": {
        "colab": {
          "base_uri": "https://localhost:8080/"
        },
        "id": "bFZawZLZpVy5",
        "outputId": "2aeb1301-430d-4076-a5c8-1ad712e743cc"
      },
      "source": [
        "from sklearn.metrics import confusion_matrix\n",
        " \n",
        "expected = [1, 1, 1, 1, 1, 1, 1, 1, 1, 1, 1, 1, 1, 1, 1, 1, 1, 1, 1, 1, 1, 1, 1, 1, 1, 1, 1, 1, 1, 1, 1, 1, 1, 1, 1, 1,0,1,1,1,0,0,0,0,0\n",
        "]\n",
        "predicted = [1, 1, 1, 1, 1, 1, 1, 1, 1, 1, 1, 1, 1, 1, 1, 1, 1, 1, 1, 1, 1, 1, 1, 1, 1, 1, 1, 1, 1, 1, 1, 1, 1, 1, 1,0,1,0,0,0,0,0,0,0,0]\n",
        "results = confusion_matrix(expected, predicted)\n",
        "print(results)"
      ],
      "execution_count": 3,
      "outputs": [
        {
          "output_type": "stream",
          "text": [
            "[[ 5  1]\n",
            " [ 4 35]]\n"
          ],
          "name": "stdout"
        }
      ]
    }
  ]
}